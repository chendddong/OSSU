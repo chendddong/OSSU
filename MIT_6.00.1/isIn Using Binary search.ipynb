{
 "cells": [
  {
   "cell_type": "markdown",
   "metadata": {},
   "source": [
    "Search the given character and see if it is in the given string that is in apphabetical order"
   ]
  },
  {
   "cell_type": "code",
   "execution_count": 26,
   "metadata": {
    "collapsed": false
   },
   "outputs": [],
   "source": [
    "def isIn(char, aStr):\n",
    "    \n",
    "    if len(aStr) <= 1:\n",
    "        return char == aStr\n",
    "\n",
    "    mid = int(len(aStr) / 2)\n",
    "    \n",
    "    if char == aStr[mid]:\n",
    "        return True\n",
    "    elif char < aStr[mid]:\n",
    "        return isIn(char, aStr[:mid])\n",
    "    else:\n",
    "        return isIn(char, aStr[mid:])"
   ]
  },
  {
   "cell_type": "code",
   "execution_count": 27,
   "metadata": {
    "collapsed": false
   },
   "outputs": [
    {
     "data": {
      "text/plain": [
       "True"
      ]
     },
     "execution_count": 27,
     "metadata": {},
     "output_type": "execute_result"
    }
   ],
   "source": [
    "isIn(\"a\", \"abcdefghij\")"
   ]
  },
  {
   "cell_type": "code",
   "execution_count": null,
   "metadata": {
    "collapsed": true
   },
   "outputs": [],
   "source": []
  }
 ],
 "metadata": {
  "kernelspec": {
   "display_name": "Python 3",
   "language": "python",
   "name": "python3"
  },
  "language_info": {
   "codemirror_mode": {
    "name": "ipython",
    "version": 3
   },
   "file_extension": ".py",
   "mimetype": "text/x-python",
   "name": "python",
   "nbconvert_exporter": "python",
   "pygments_lexer": "ipython3",
   "version": "3.5.0"
  }
 },
 "nbformat": 4,
 "nbformat_minor": 2
}
