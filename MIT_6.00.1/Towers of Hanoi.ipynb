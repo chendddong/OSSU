{
 "cells": [
  {
   "cell_type": "markdown",
   "metadata": {},
   "source": [
    "# The basic version of the recursive method"
   ]
  },
  {
   "cell_type": "code",
   "execution_count": 1,
   "metadata": {
    "collapsed": false
   },
   "outputs": [
    {
     "name": "stdout",
     "output_type": "stream",
     "text": [
      "move from P1 to P2\n",
      "move from P1 to P3\n",
      "move from P2 to P3\n",
      "move from P1 to P2\n",
      "move from P3 to P1\n",
      "move from P3 to P2\n",
      "move from P1 to P2\n",
      "None\n"
     ]
    }
   ],
   "source": [
    "def printMove(fr, to):\n",
    "    print(\"move from \" + str(fr) + \" to \" + str(to))\n",
    "    \n",
    "    \n",
    "def Towers(n, fr, to, spare):\n",
    "    '''\n",
    "        Move the pile from 'fr' to 'to' with the 'spare' in the middle\n",
    "    '''\n",
    "    # Base case\n",
    "    if n == 1:\n",
    "        printMove(fr, to)\n",
    "    else:\n",
    "        # move a smaller pile to the middle and move the largest to the far right.\n",
    "        Towers(n - 1, fr, spare, to)\n",
    "        # move the largest piece to the far rigtht.\n",
    "        Towers(1, fr, to, spare)\n",
    "        # move a smaller pile from middle to the right.\n",
    "        Towers(n - 1, spare, to, fr)\n",
    "        \n",
    "print(Towers(3, \"P1\", \"P2\", \"P3\"))"
   ]
  },
  {
   "cell_type": "code",
   "execution_count": null,
   "metadata": {
    "collapsed": true
   },
   "outputs": [],
   "source": []
  }
 ],
 "metadata": {
  "kernelspec": {
   "display_name": "Python 3",
   "language": "python",
   "name": "python3"
  },
  "language_info": {
   "codemirror_mode": {
    "name": "ipython",
    "version": 3
   },
   "file_extension": ".py",
   "mimetype": "text/x-python",
   "name": "python",
   "nbconvert_exporter": "python",
   "pygments_lexer": "ipython3",
   "version": "3.5.0"
  }
 },
 "nbformat": 4,
 "nbformat_minor": 2
}
