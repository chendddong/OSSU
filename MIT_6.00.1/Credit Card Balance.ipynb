{
 "cells": [
  {
   "cell_type": "markdown",
   "metadata": {
    "collapsed": true
   },
   "source": [
    "## Write a program to calculate the credit card balance after one year if a person only pays the minimum monthly payment required by the credit card company each month.\n",
    "\n",
    "\n",
    "\n",
    "The following variables contain values as described below:\n",
    "\n",
    "balance - the outstanding balance on the credit card\n",
    "\n",
    "annualInterestRate - annual interest rate as a decimal\n",
    "\n",
    "monthlyPaymentRate - minimum monthly payment rate as a decimal\n",
    "\n",
    "\n",
    "\n",
    "## Math Required\n",
    "\n",
    "Monthly interest rate= (Annual interest rate) / 12.0\n",
    "\n",
    "Minimum monthly payment = (Minimum monthly payment rate) x (Previous balance)\n",
    "\n",
    "Monthly unpaid balance = (Previous balance) - (Minimum monthly payment)\n",
    "\n",
    "Updated balance each month = (Monthly unpaid balance) + (Monthly interest rate x Monthly unpaid balance)"
   ]
  },
  {
   "cell_type": "code",
   "execution_count": 4,
   "metadata": {
    "collapsed": true
   },
   "outputs": [],
   "source": [
    "from math import *\n",
    "\n",
    "balance = 42\n",
    "annualInterestRate = 0.2\n",
    "monthlyPaymentRate = 0.04"
   ]
  },
  {
   "cell_type": "code",
   "execution_count": 9,
   "metadata": {
    "collapsed": true
   },
   "outputs": [],
   "source": [
    "def remainBalance(balance, annualInterestRate, monthlyPaymentRate):\n",
    "    # interval variables\n",
    "    ub = 0\n",
    "    interest = 0\n",
    "#     base\n",
    "#     ub0 = balance - monthlyPaymentRate * balance\n",
    "#     in0 = ub0 * (annualInterestRate / 12)\n",
    "#     balance = in0 + ub0\n",
    "    \n",
    "    for i in range(0, 12):\n",
    "        ub = balance - monthlyPaymentRate * balance\n",
    "        interest = ub * (annualInterestRate / 12)\n",
    "        balance = interest + ub;\n",
    "        # print round(balance, 2)\n",
    "    return round(balance, 2)"
   ]
  },
  {
   "cell_type": "code",
   "execution_count": 10,
   "metadata": {
    "collapsed": false
   },
   "outputs": [
    {
     "name": "stdout",
     "output_type": "stream",
     "text": [
      "40.99\n",
      "40.01\n",
      "39.05\n",
      "38.11\n",
      "37.2\n",
      "36.3\n",
      "35.43\n",
      "34.58\n",
      "33.75\n",
      "32.94\n",
      "32.15\n",
      "31.38\n"
     ]
    },
    {
     "data": {
      "text/plain": [
       "31.38"
      ]
     },
     "execution_count": 10,
     "metadata": {},
     "output_type": "execute_result"
    }
   ],
   "source": [
    "remainBalance(balance, annualInterestRate, monthlyPaymentRate)"
   ]
  },
  {
   "cell_type": "code",
   "execution_count": 11,
   "metadata": {
    "collapsed": false
   },
   "outputs": [
    {
     "name": "stdout",
     "output_type": "stream",
     "text": [
      "472.38\n",
      "461.05\n",
      "449.98\n",
      "439.18\n",
      "428.64\n",
      "418.35\n",
      "408.31\n",
      "398.51\n",
      "388.95\n",
      "379.62\n",
      "370.5\n",
      "361.61\n"
     ]
    },
    {
     "data": {
      "text/plain": [
       "361.61"
      ]
     },
     "execution_count": 11,
     "metadata": {},
     "output_type": "execute_result"
    }
   ],
   "source": [
    "balance = 484\n",
    "annualInterestRate = 0.2\n",
    "monthlyPaymentRate = 0.04\n",
    "remainBalance(balance, annualInterestRate, monthlyPaymentRate)"
   ]
  },
  {
   "cell_type": "code",
   "execution_count": 15,
   "metadata": {
    "collapsed": false
   },
   "outputs": [
    {
     "name": "stdout",
     "output_type": "stream",
     "text": [
      "361.61\n"
     ]
    }
   ],
   "source": [
    "import math\n",
    "\n",
    "\n",
    "balance = 484\n",
    "annualInterestRate = 0.2\n",
    "monthlyPaymentRate = 0.04\n",
    "\n",
    "# interval variables\n",
    "ub = 0\n",
    "interest = 0\n",
    "#     base\n",
    "#     ub0 = balance - monthlyPaymentRate * balance\n",
    "#     in0 = ub0 * (annualInterestRate / 12)\n",
    "#     balance = in0 + ub0\n",
    "\n",
    "for i in range(0, 12):\n",
    "    ub = balance - monthlyPaymentRate * balance\n",
    "    interest = ub * (annualInterestRate / 12)\n",
    "    balance = interest + ub;\n",
    "    # print round(balance, 2)\n",
    "print (round(balance, 2))"
   ]
  },
  {
   "cell_type": "code",
   "execution_count": null,
   "metadata": {
    "collapsed": false
   },
   "outputs": [],
   "source": []
  },
  {
   "cell_type": "markdown",
   "metadata": {},
   "source": [
    "## Now write a program that calculates the minimum fixed monthly payment needed in order pay off a credit card balance within 12 months. By a fixed monthly payment, we mean a single number which does not change each month, but instead is a constant amount that will be paid each month.\n",
    "\n",
    "In this problem, we will not be dealing with a minimum monthly payment rate.\n",
    "\n",
    "The following variables contain values as described below:\n",
    "\n",
    "\n",
    "\n",
    "* balance - the outstanding balance on the credit card\n",
    "\n",
    "* annualInterestRate - annual interest rate as a decimal\n",
    "\n",
    "The program should print out one line: the lowest monthly payment that will pay off all debt in under 1 year, for example:\n",
    "\n",
    "Lowest Payment: 180 "
   ]
  },
  {
   "cell_type": "code",
   "execution_count": null,
   "metadata": {
    "collapsed": true
   },
   "outputs": [],
   "source": [
    "#     base\n",
    "#     ub0 = balance - monthlyPaymentRate * balance\n",
    "#     in0 = ub0 * (annualInterestRate / 12)\n",
    "#     balance = in0 + ub0\n",
    "\n",
    "    "
   ]
  }
 ],
 "metadata": {
  "kernelspec": {
   "display_name": "Python 2",
   "language": "python",
   "name": "python2"
  },
  "language_info": {
   "codemirror_mode": {
    "name": "ipython",
    "version": 2
   },
   "file_extension": ".py",
   "mimetype": "text/x-python",
   "name": "python",
   "nbconvert_exporter": "python",
   "pygments_lexer": "ipython2",
   "version": "2.7.11"
  }
 },
 "nbformat": 4,
 "nbformat_minor": 1
}
