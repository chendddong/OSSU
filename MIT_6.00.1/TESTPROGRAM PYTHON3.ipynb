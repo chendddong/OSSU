{
 "cells": [
  {
   "cell_type": "code",
   "execution_count": 1,
   "metadata": {
    "collapsed": true
   },
   "outputs": [],
   "source": [
    "def updateHand(hand, word):\n",
    "    \"\"\"\n",
    "    Assumes that 'hand' has all the letters in word.\n",
    "    In other words, this assumes that however many times\n",
    "    a letter appears in 'word', 'hand' has at least as\n",
    "    many of that letter in it. \n",
    "\n",
    "    Updates the hand: uses up the letters in the given word\n",
    "    and returns the new hand, without those letters in it.\n",
    "\n",
    "    Has no side effects: does not modify hand.\n",
    "\n",
    "    word: string\n",
    "    hand: dictionary (string -> int)    \n",
    "    returns: dictionary (string -> int)\n",
    "    \n",
    "    >>> hand = {'a':1, 'q':1, 'l':2, 'm':1, 'u':1, 'i':1}\n",
    "    >>> displayHand(hand) # Implemented for you\n",
    "    a q l l m u i\n",
    "    >>> hand = updateHand(hand, 'quail') # You implement this function!\n",
    "    >>> hand\n",
    "    {'a':0, 'q':0, 'l':1, 'm':1, 'u':0, 'i':0}\n",
    "    >>> displayHand(hand)\n",
    "    l m      \n",
    "    \"\"\"\n",
    "    \n",
    "    fakehand = hand.copy()\n",
    "    for character in word:\n",
    "        fakehand[character] = fakehand.get(character, 0) - 1\n",
    "    \n",
    "    return fakehand\n",
    "\n",
    "def displayHand(hand):\n",
    "    \"\"\"\n",
    "    Displays the letters currently in the hand.\n",
    "\n",
    "    For example:\n",
    "    >>> displayHand({'a':1, 'x':2, 'l':3, 'e':1})\n",
    "    Should print out something like:\n",
    "       a x x l l l e\n",
    "    The order of the letters is unimportant.\n",
    "\n",
    "    hand: dictionary (string -> int)\n",
    "    \"\"\"\n",
    "    for letter in hand.keys():\n",
    "        # get the number of that certain letter\n",
    "        for j in range(hand[letter]):\n",
    "             print(letter,end=\" \")       # print all on the same line\n",
    "    print()                             # print an empty line"
   ]
  },
  {
   "cell_type": "code",
   "execution_count": 2,
   "metadata": {
    "collapsed": false
   },
   "outputs": [
    {
     "data": {
      "text/plain": [
       "{'a': 0, 'i': 0, 'l': 1, 'm': 1, 'q': 0, 'u': 0}"
      ]
     },
     "execution_count": 2,
     "metadata": {},
     "output_type": "execute_result"
    }
   ],
   "source": [
    "hand = {'a':1, 'q':1, 'l':2, 'm':1, 'u':1, 'i':1}\n",
    "hand = updateHand(hand, 'quail') \n",
    "hand"
   ]
  },
  {
   "cell_type": "code",
   "execution_count": 3,
   "metadata": {
    "collapsed": false
   },
   "outputs": [
    {
     "name": "stdout",
     "output_type": "stream",
     "text": [
      "l m \n"
     ]
    }
   ],
   "source": [
    "displayHand(hand)"
   ]
  },
  {
   "cell_type": "code",
   "execution_count": null,
   "metadata": {
    "collapsed": true
   },
   "outputs": [],
   "source": []
  }
 ],
 "metadata": {
  "kernelspec": {
   "display_name": "Python 3",
   "language": "python",
   "name": "python3"
  },
  "language_info": {
   "codemirror_mode": {
    "name": "ipython",
    "version": 3
   },
   "file_extension": ".py",
   "mimetype": "text/x-python",
   "name": "python",
   "nbconvert_exporter": "python",
   "pygments_lexer": "ipython3",
   "version": "3.5.0"
  }
 },
 "nbformat": 4,
 "nbformat_minor": 2
}
