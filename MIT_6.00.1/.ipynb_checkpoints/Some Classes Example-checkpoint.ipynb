{
 "cells": [
  {
   "cell_type": "code",
   "execution_count": 68,
   "metadata": {
    "collapsed": true
   },
   "outputs": [],
   "source": [
    "class fraction(object):\n",
    "    def __init__(self, numer, demom):\n",
    "        self.numer = numer\n",
    "        self.demom = demom\n",
    "    def __str__(self):\n",
    "        return str(self.numer) + ' / ' + str(self.demom)\n",
    "    \n",
    "    # two getters. Here is why? we do not want to manipulate the internal representation of an object.\n",
    "    # by using the getters we can properly access the method and field we want to use.\n",
    "    def getNumer(self):\n",
    "        return self.numer\n",
    "    def getDenom(self):\n",
    "        return self.demom\n",
    "    \n",
    "    def __add__(self, other):\n",
    "        numerNew = other.getDenom() * self.getNumer() + other.getNumer() * self.getDenom()\n",
    "        denomNew = other.getDenom() * self.getDenom()\n",
    "        \n",
    "        return fraction(numerNew, denomNew)\n",
    "    def __sub__(self, other):\n",
    "        numerNew = other.getDenom() * self.getNumer() - other.getNumer() * self.getDenom()\n",
    "        denomNew = other.getDenom() * self.getDenom() \n",
    "        \n",
    "        return fraction(numerNew, denomNew)\n",
    "        \n",
    "    def convert(self):\n",
    "        return self.getNumer() / self.getDenom()\n",
    "        "
   ]
  },
  {
   "cell_type": "code",
   "execution_count": 69,
   "metadata": {
    "collapsed": true
   },
   "outputs": [],
   "source": [
    "oneHalf = fraction(1,2)"
   ]
  },
  {
   "cell_type": "code",
   "execution_count": 70,
   "metadata": {
    "collapsed": true
   },
   "outputs": [],
   "source": [
    "twoThirds = fraction(2,3)"
   ]
  },
  {
   "cell_type": "code",
   "execution_count": 71,
   "metadata": {
    "collapsed": false
   },
   "outputs": [
    {
     "name": "stdout",
     "output_type": "stream",
     "text": [
      "1 / 2\n"
     ]
    }
   ],
   "source": [
    "print(oneHalf)"
   ]
  },
  {
   "cell_type": "code",
   "execution_count": 72,
   "metadata": {
    "collapsed": false
   },
   "outputs": [
    {
     "name": "stdout",
     "output_type": "stream",
     "text": [
      "2 / 3\n"
     ]
    }
   ],
   "source": [
    "print(twoThirds)"
   ]
  },
  {
   "cell_type": "code",
   "execution_count": 73,
   "metadata": {
    "collapsed": false
   },
   "outputs": [
    {
     "data": {
      "text/plain": [
       "1"
      ]
     },
     "execution_count": 73,
     "metadata": {},
     "output_type": "execute_result"
    }
   ],
   "source": [
    "oneHalf.getNumer()"
   ]
  },
  {
   "cell_type": "code",
   "execution_count": 74,
   "metadata": {
    "collapsed": false
   },
   "outputs": [
    {
     "data": {
      "text/plain": [
       "2"
      ]
     },
     "execution_count": 74,
     "metadata": {},
     "output_type": "execute_result"
    }
   ],
   "source": [
    "oneHalf.getDenom()"
   ]
  },
  {
   "cell_type": "code",
   "execution_count": 75,
   "metadata": {
    "collapsed": false
   },
   "outputs": [],
   "source": [
    "new = oneHalf + twoThirds"
   ]
  },
  {
   "cell_type": "code",
   "execution_count": 76,
   "metadata": {
    "collapsed": false
   },
   "outputs": [
    {
     "name": "stdout",
     "output_type": "stream",
     "text": [
      "7 / 6\n"
     ]
    }
   ],
   "source": [
    "print(newFraction)"
   ]
  },
  {
   "cell_type": "code",
   "execution_count": 77,
   "metadata": {
    "collapsed": true
   },
   "outputs": [],
   "source": [
    "threeQuarters = fraction(3,4)"
   ]
  },
  {
   "cell_type": "code",
   "execution_count": 78,
   "metadata": {
    "collapsed": false
   },
   "outputs": [
    {
     "name": "stdout",
     "output_type": "stream",
     "text": [
      "3 / 4\n"
     ]
    }
   ],
   "source": [
    "print(threeQuarters)"
   ]
  },
  {
   "cell_type": "code",
   "execution_count": 79,
   "metadata": {
    "collapsed": false
   },
   "outputs": [],
   "source": [
    "secondNew = twoThirds - threeQuarters"
   ]
  },
  {
   "cell_type": "code",
   "execution_count": 80,
   "metadata": {
    "collapsed": false
   },
   "outputs": [
    {
     "name": "stdout",
     "output_type": "stream",
     "text": [
      "-1 / 12\n"
     ]
    }
   ],
   "source": [
    "print(secondNew)"
   ]
  },
  {
   "cell_type": "code",
   "execution_count": 81,
   "metadata": {
    "collapsed": false
   },
   "outputs": [
    {
     "data": {
      "text/plain": [
       "-0.08333333333333333"
      ]
     },
     "execution_count": 81,
     "metadata": {},
     "output_type": "execute_result"
    }
   ],
   "source": [
    "secondNew.convert()"
   ]
  },
  {
   "cell_type": "code",
   "execution_count": null,
   "metadata": {
    "collapsed": true
   },
   "outputs": [],
   "source": []
  }
 ],
 "metadata": {
  "kernelspec": {
   "display_name": "Python 3",
   "language": "python",
   "name": "python3"
  },
  "language_info": {
   "codemirror_mode": {
    "name": "ipython",
    "version": 3
   },
   "file_extension": ".py",
   "mimetype": "text/x-python",
   "name": "python",
   "nbconvert_exporter": "python",
   "pygments_lexer": "ipython3",
   "version": "3.5.0"
  }
 },
 "nbformat": 4,
 "nbformat_minor": 0
}
