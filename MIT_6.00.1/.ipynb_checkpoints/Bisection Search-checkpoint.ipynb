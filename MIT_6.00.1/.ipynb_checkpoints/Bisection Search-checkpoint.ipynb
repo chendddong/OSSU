{
 "cells": [
  {
   "cell_type": "markdown",
   "metadata": {},
   "source": [
    "# Python Bisection Search\n"
   ]
  },
  {
   "cell_type": "markdown",
   "metadata": {},
   "source": [
    "### Example of computing the square root\n"
   ]
  },
  {
   "cell_type": "code",
   "execution_count": 2,
   "metadata": {
    "collapsed": false
   },
   "outputs": [
    {
     "name": "stdout",
     "output_type": "stream",
     "text": [
      "low = 0.0 hight = 25 middle = 12.5\n",
      "low = 0.0 hight = 12.5 middle = 6.25\n",
      "low = 0.0 hight = 6.25 middle = 3.125\n",
      "low = 3.125 hight = 6.25 middle = 4.6875\n",
      "low = 4.6875 hight = 6.25 middle = 5.46875\n",
      "low = 4.6875 hight = 5.46875 middle = 5.078125\n",
      "low = 4.6875 hight = 5.078125 middle = 4.8828125\n",
      "low = 4.8828125 hight = 5.078125 middle = 4.98046875\n",
      "low = 4.98046875 hight = 5.078125 middle = 5.029296875\n",
      "low = 4.98046875 hight = 5.029296875 middle = 5.0048828125\n",
      "low = 4.98046875 hight = 5.0048828125 middle = 4.99267578125\n",
      "low = 4.99267578125 hight = 5.0048828125 middle = 4.998779296875\n",
      "low = 4.998779296875 hight = 5.0048828125 middle = 5.0018310546875\n",
      "numGuesses = 13\n",
      "5.00030517578125 is close to square root of 25\n"
     ]
    }
   ],
   "source": [
    "x = 25\n",
    "epsilon = 0.01\n",
    "numGuesses = 0\n",
    "\n",
    "start = 0.0\n",
    "end = x\n",
    "middle = (start + end) / 2.0\n",
    "\n",
    "while abs(middle**2 - x) >= epsilon:\n",
    "    print(\"low = \" + str(start) + \" hight = \" + str(end) + \" middle = \" + str(middle))\n",
    "    numGuesses += 1\n",
    "    if middle ** 2 < x:\n",
    "        start = middle\n",
    "    else:\n",
    "        end = middle\n",
    "    middle = (start + end) / 2.0\n",
    "\n",
    "print(\"numGuesses = \" + str(numGuesses))\n",
    "print(str(middle) + \" is close to square root of \" + str(x))"
   ]
  },
  {
   "cell_type": "markdown",
   "metadata": {},
   "source": [
    "### Example of computing the square cube"
   ]
  },
  {
   "cell_type": "code",
   "execution_count": 3,
   "metadata": {
    "collapsed": false
   },
   "outputs": [
    {
     "name": "stdout",
     "output_type": "stream",
     "text": [
      "low = 0.0 hight = 27 middle = 13.5\n",
      "low = 0.0 hight = 13.5 middle = 6.75\n",
      "low = 0.0 hight = 6.75 middle = 3.375\n",
      "low = 0.0 hight = 3.375 middle = 1.6875\n",
      "low = 1.6875 hight = 3.375 middle = 2.53125\n",
      "low = 2.53125 hight = 3.375 middle = 2.953125\n",
      "low = 2.953125 hight = 3.375 middle = 3.1640625\n",
      "low = 2.953125 hight = 3.1640625 middle = 3.05859375\n",
      "low = 2.953125 hight = 3.05859375 middle = 3.005859375\n",
      "low = 2.953125 hight = 3.005859375 middle = 2.9794921875\n",
      "low = 2.9794921875 hight = 3.005859375 middle = 2.99267578125\n",
      "low = 2.99267578125 hight = 3.005859375 middle = 2.999267578125\n",
      "low = 2.999267578125 hight = 3.005859375 middle = 3.0025634765625\n",
      "low = 2.999267578125 hight = 3.0025634765625 middle = 3.00091552734375\n",
      "numGuesses = 14\n",
      "3.000091552734375 is close to square root of 27\n"
     ]
    }
   ],
   "source": [
    "x = 27\n",
    "epsilon = 0.01\n",
    "numGuesses = 0\n",
    "\n",
    "start = 0.0\n",
    "end = x\n",
    "middle = (start + end) / 2.0\n",
    "\n",
    "while abs(middle**3 - x) >= epsilon:\n",
    "    print(\"low = \" + str(start) + \" hight = \" + str(end) + \" middle = \" + str(middle))\n",
    "    numGuesses += 1\n",
    "    if middle ** 3 < x:\n",
    "        start = middle\n",
    "    else:\n",
    "        end = middle\n",
    "    middle = (start + end) / 2.0\n",
    "\n",
    "print(\"numGuesses = \" + str(numGuesses))\n",
    "print(str(middle) + \" is close to square root of \" + str(x))"
   ]
  },
  {
   "cell_type": "code",
   "execution_count": null,
   "metadata": {
    "collapsed": true
   },
   "outputs": [],
   "source": []
  }
 ],
 "metadata": {
  "kernelspec": {
   "display_name": "Python 3",
   "language": "python",
   "name": "python3"
  },
  "language_info": {
   "codemirror_mode": {
    "name": "ipython",
    "version": 3
   },
   "file_extension": ".py",
   "mimetype": "text/x-python",
   "name": "python",
   "nbconvert_exporter": "python",
   "pygments_lexer": "ipython3",
   "version": "3.5.0"
  }
 },
 "nbformat": 4,
 "nbformat_minor": 2
}
