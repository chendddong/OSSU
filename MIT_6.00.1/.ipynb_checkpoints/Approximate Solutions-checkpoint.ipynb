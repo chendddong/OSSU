{
 "cells": [
  {
   "cell_type": "markdown",
   "metadata": {},
   "source": [
    "# Python Approximate Solution"
   ]
  },
  {
   "cell_type": "markdown",
   "metadata": {},
   "source": [
    "### Example cube root\n"
   ]
  },
  {
   "cell_type": "code",
   "execution_count": 1,
   "metadata": {
    "collapsed": false
   },
   "outputs": [
    {
     "name": "stdout",
     "output_type": "stream",
     "text": [
      "num_guesses = 29997\n",
      "2.999700000001906 is close to the cube root of 27\n"
     ]
    }
   ],
   "source": [
    "cube = 27\n",
    "epsilon = 0.01 # the tolerance/error we can make\n",
    "guess = 0.0\n",
    "increment = 0.0001\n",
    "num_guesses = 0\n",
    "\n",
    "while abs(guess**3 - cube) >= epsilon:\n",
    "    guess += increment\n",
    "    num_guesses += 1\n",
    "print(\"num_guesses =\", num_guesses)\n",
    "\n",
    "if abs(guess**3 - cube) >= epsilon:\n",
    "    print(\"Failed on cube root of\", cube)\n",
    "else:\n",
    "    print(guess, \"is close to the cube root of\", cube)"
   ]
  },
  {
   "cell_type": "code",
   "execution_count": 1,
   "metadata": {
    "collapsed": false
   },
   "outputs": [
    {
     "name": "stdout",
     "output_type": "stream",
     "text": [
      "num_guesses = 30720\n",
      "3.0720000000020584 is close to the cube root of 29\n"
     ]
    }
   ],
   "source": [
    "cube = 29\n",
    "epsilon = 0.01 # the tolerance/error we can make\n",
    "guess = 0.0\n",
    "increment = 0.0001\n",
    "num_guesses = 0\n",
    "\n",
    "while abs(guess**3 - cube) >= epsilon:\n",
    "    guess += increment\n",
    "    num_guesses += 1\n",
    "print(\"num_guesses =\", num_guesses)\n",
    "\n",
    "if abs(guess**3 - cube) >= epsilon:\n",
    "    print(\"Failed on cube root of\", cube)\n",
    "else:\n",
    "    print(guess, \"is close to the cube root of\", cube)"
   ]
  },
  {
   "cell_type": "code",
   "execution_count": 2,
   "metadata": {
    "collapsed": false
   },
   "outputs": [
    {
     "name": "stdout",
     "output_type": "stream",
     "text": [
      "num_guesses = 3072\n",
      "3.0719999999997727 is close to the cube root of 29\n"
     ]
    }
   ],
   "source": [
    "cube = 29\n",
    "epsilon = 0.01 # the tolerance/error we can make\n",
    "guess = 0.0\n",
    "increment = 0.001 # it will be an infinite loop if the increment is 0.01\n",
    "num_guesses = 0\n",
    "\n",
    "while abs(guess**3 - cube) >= epsilon:\n",
    "    guess += increment\n",
    "    num_guesses += 1\n",
    "print(\"num_guesses =\", num_guesses)\n",
    "\n",
    "if abs(guess**3 - cube) >= epsilon:\n",
    "    print(\"Failed on cube root of\", cube)\n",
    "else:\n",
    "    print(guess, \"is close to the cube root of\", cube)"
   ]
  },
  {
   "cell_type": "code",
   "execution_count": 3,
   "metadata": {
    "collapsed": false
   },
   "outputs": [
    {
     "name": "stdout",
     "output_type": "stream",
     "text": [
      "num_guesses = 2900\n",
      "Failed on cube root of 29\n"
     ]
    }
   ],
   "source": [
    "cube = 29\n",
    "epsilon = 0.01 # the tolerance/error we can make\n",
    "guess = 0.0\n",
    "increment = 0.01\n",
    "num_guesses = 0\n",
    "\n",
    "while abs(guess**3 - cube) >= epsilon and guess <= cube:\n",
    "    guess += increment\n",
    "    num_guesses += 1\n",
    "print(\"num_guesses =\", num_guesses)\n",
    "\n",
    "if abs(guess**3 - cube) >= epsilon:\n",
    "    print(\"Failed on cube root of\", cube)\n",
    "else:\n",
    "    print(guess, \"is close to the cube root of\", cube)"
   ]
  },
  {
   "cell_type": "code",
   "execution_count": null,
   "metadata": {
    "collapsed": true
   },
   "outputs": [],
   "source": []
  }
 ],
 "metadata": {
  "kernelspec": {
   "display_name": "Python 3",
   "language": "python",
   "name": "python3"
  },
  "language_info": {
   "codemirror_mode": {
    "name": "ipython",
    "version": 3
   },
   "file_extension": ".py",
   "mimetype": "text/x-python",
   "name": "python",
   "nbconvert_exporter": "python",
   "pygments_lexer": "ipython3",
   "version": "3.5.0"
  }
 },
 "nbformat": 4,
 "nbformat_minor": 2
}
