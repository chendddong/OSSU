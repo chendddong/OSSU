{
 "cells": [
  {
   "cell_type": "markdown",
   "metadata": {},
   "source": [
    "## The greatest common divisor of two positive integers is the largest integer that divides each of them without remiander.\n",
    "\n",
    "* gcd(2, 12) = 2\n",
    "* gcd(6, 12) = 3\n",
    "* gcd(9, 12) = 3\n",
    "* gcd(17,12) = 1\n",
    "\n"
   ]
  },
  {
   "cell_type": "code",
   "execution_count": 11,
   "metadata": {
    "collapsed": false
   },
   "outputs": [],
   "source": [
    "def gcdIter(a, b):\n",
    "    '''\n",
    "    a, b: positive integers\n",
    "    \n",
    "    returns: a positive integer, the greatest common divisor of a & b.\n",
    "    '''\n",
    "    \n",
    "    \n",
    "    # Make sure we get the smaller one\n",
    "    \n",
    "#     small = 0\n",
    "    \n",
    "#     if a - b == 0:\n",
    "#         return a\n",
    "#     if a - b > 0:\n",
    "#         small = b\n",
    "#     else:\n",
    "#         small = a\n",
    "        \n",
    "    # alternatively, python has the min(a, b) function\n",
    "    small = min(a, b)\n",
    "        \n",
    "        \n",
    "    for ans in range(small, 0, -1):\n",
    "        if a % ans == 0 and b % ans == 0:\n",
    "            return ans\n",
    "        \n",
    "    # alternatively, we can keep looping until small divids both a and b evenly\n",
    "#     while a % small != 0 or b % small != 0:\n",
    "#         small -= 1\n",
    "        \n",
    "#     return small\n",
    "        \n",
    "    "
   ]
  },
  {
   "cell_type": "code",
   "execution_count": 12,
   "metadata": {
    "collapsed": false
   },
   "outputs": [
    {
     "data": {
      "text/plain": [
       "2"
      ]
     },
     "execution_count": 12,
     "metadata": {},
     "output_type": "execute_result"
    }
   ],
   "source": [
    "gcdIter(10,2)"
   ]
  },
  {
   "cell_type": "markdown",
   "metadata": {},
   "source": [
    "## Recursive method"
   ]
  },
  {
   "cell_type": "code",
   "execution_count": 15,
   "metadata": {
    "collapsed": true
   },
   "outputs": [],
   "source": [
    "def gcdRecur(a, b):\n",
    "    if b == 0:\n",
    "        return a\n",
    "    \n",
    "    return gcdRecur(b, a % b)\n",
    "    "
   ]
  },
  {
   "cell_type": "code",
   "execution_count": 16,
   "metadata": {
    "collapsed": false
   },
   "outputs": [
    {
     "data": {
      "text/plain": [
       "2"
      ]
     },
     "execution_count": 16,
     "metadata": {},
     "output_type": "execute_result"
    }
   ],
   "source": [
    "gcdRecur(2, 6)"
   ]
  },
  {
   "cell_type": "code",
   "execution_count": null,
   "metadata": {
    "collapsed": true
   },
   "outputs": [],
   "source": []
  }
 ],
 "metadata": {
  "kernelspec": {
   "display_name": "Python 2",
   "language": "python",
   "name": "python2"
  },
  "language_info": {
   "codemirror_mode": {
    "name": "ipython",
    "version": 2
   },
   "file_extension": ".py",
   "mimetype": "text/x-python",
   "name": "python",
   "nbconvert_exporter": "python",
   "pygments_lexer": "ipython2",
   "version": "2.7.12"
  }
 },
 "nbformat": 4,
 "nbformat_minor": 2
}
