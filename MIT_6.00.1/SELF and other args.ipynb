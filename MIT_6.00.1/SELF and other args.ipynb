{
 "cells": [
  {
   "cell_type": "markdown",
   "metadata": {},
   "source": [
    "* self determined from instance, passed in as argument"
   ]
  },
  {
   "cell_type": "code",
   "execution_count": 4,
   "metadata": {
    "collapsed": false
   },
   "outputs": [],
   "source": [
    "# for the method: def __init__(self, age).\n",
    "# creates self, passes it in automatically as argument\n",
    "\n",
    "# a = Animal(3)\n",
    "\n",
    "\n",
    "# for the method: def get_age(self)\n",
    "# call method with :      a.get_age()\n",
    "# or with                 Animal.get_age(a)"
   ]
  },
  {
   "cell_type": "markdown",
   "metadata": {},
   "source": [
    "* default arguments for formal parameters are used if no actual argument is given"
   ]
  },
  {
   "cell_type": "code",
   "execution_count": 5,
   "metadata": {
    "collapsed": true
   },
   "outputs": [],
   "source": [
    "# for the method: def set_name(self, newname=\"\")\n",
    "\n",
    "# default argument used here      a.set_name()\n",
    "# argument passed is used here    a.set_name(\"fluffy\")"
   ]
  },
  {
   "cell_type": "code",
   "execution_count": null,
   "metadata": {
    "collapsed": true
   },
   "outputs": [],
   "source": []
  }
 ],
 "metadata": {
  "kernelspec": {
   "display_name": "Python 3",
   "language": "python",
   "name": "python3"
  },
  "language_info": {
   "codemirror_mode": {
    "name": "ipython",
    "version": 3
   },
   "file_extension": ".py",
   "mimetype": "text/x-python",
   "name": "python",
   "nbconvert_exporter": "python",
   "pygments_lexer": "ipython3",
   "version": "3.6.3"
  }
 },
 "nbformat": 4,
 "nbformat_minor": 0
}
