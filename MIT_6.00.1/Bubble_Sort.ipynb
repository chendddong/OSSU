{
 "cells": [
  {
   "cell_type": "code",
   "execution_count": 9,
   "metadata": {
    "collapsed": false
   },
   "outputs": [],
   "source": [
    "def bubble_sort(L):\n",
    "    swap = False\n",
    "    while not swap:\n",
    "        swap = True\n",
    "        for j in range(1, len(L)):\n",
    "            if L[j - 1] > L[j]:\n",
    "                swap = False\n",
    "                temp = L[j]\n",
    "                L[j] = L[j - 1]\n",
    "                L[j - 1] = temp\n",
    "                print (L) # see the process\n",
    "                \n",
    "\n",
    "        "
   ]
  },
  {
   "cell_type": "code",
   "execution_count": 10,
   "metadata": {
    "collapsed": false
   },
   "outputs": [
    {
     "name": "stdout",
     "output_type": "stream",
     "text": [
      "[4, 99, 27, 8, 9, 120, 22]\n",
      "[4, 27, 99, 8, 9, 120, 22]\n",
      "[4, 27, 8, 99, 9, 120, 22]\n",
      "[4, 27, 8, 9, 99, 120, 22]\n",
      "[4, 27, 8, 9, 99, 22, 120]\n",
      "[4, 8, 27, 9, 99, 22, 120]\n",
      "[4, 8, 9, 27, 99, 22, 120]\n",
      "[4, 8, 9, 27, 22, 99, 120]\n",
      "[4, 8, 9, 22, 27, 99, 120]\n"
     ]
    }
   ],
   "source": [
    "L = [99,4,27,8,9,120,22]\n",
    "bubble_sort(L)"
   ]
  },
  {
   "cell_type": "markdown",
   "metadata": {},
   "source": [
    "## Note that the complexity of the algorithm is O(n^2)"
   ]
  },
  {
   "cell_type": "code",
   "execution_count": null,
   "metadata": {
    "collapsed": true
   },
   "outputs": [],
   "source": []
  }
 ],
 "metadata": {
  "kernelspec": {
   "display_name": "Python 3",
   "language": "python",
   "name": "python3"
  },
  "language_info": {
   "codemirror_mode": {
    "name": "ipython",
    "version": 3
   },
   "file_extension": ".py",
   "mimetype": "text/x-python",
   "name": "python",
   "nbconvert_exporter": "python",
   "pygments_lexer": "ipython3",
   "version": "3.6.3"
  }
 },
 "nbformat": 4,
 "nbformat_minor": 0
}
