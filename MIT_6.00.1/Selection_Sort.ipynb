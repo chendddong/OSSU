{
 "cells": [
  {
   "cell_type": "code",
   "execution_count": 8,
   "metadata": {
    "collapsed": true
   },
   "outputs": [],
   "source": [
    "def selection_sort(L):\n",
    "    suffixSt = 0\n",
    "\n",
    "    while suffixSt != len(L):\n",
    "        for i in range(suffixSt, len(L)):\n",
    "            if L[i] < L[suffixSt]:\n",
    "                # tuple swap\n",
    "                L[suffixSt], L[i] = L[i], L[suffixSt]\n",
    "                print(L)\n",
    "                \n",
    "        suffixSt += 1"
   ]
  },
  {
   "cell_type": "code",
   "execution_count": 9,
   "metadata": {
    "collapsed": false
   },
   "outputs": [
    {
     "name": "stdout",
     "output_type": "stream",
     "text": [
      "[4, 99, 27, 8, 9, 120, 22]\n",
      "[4, 27, 99, 8, 9, 120, 22]\n",
      "[4, 8, 99, 27, 9, 120, 22]\n",
      "[4, 8, 27, 99, 9, 120, 22]\n",
      "[4, 8, 9, 99, 27, 120, 22]\n",
      "[4, 8, 9, 27, 99, 120, 22]\n",
      "[4, 8, 9, 22, 99, 120, 27]\n",
      "[4, 8, 9, 22, 27, 120, 99]\n",
      "[4, 8, 9, 22, 27, 99, 120]\n"
     ]
    }
   ],
   "source": [
    "L = [99,4,27,8,9,120,22]\n",
    "selection_sort(L)"
   ]
  },
  {
   "cell_type": "markdown",
   "metadata": {},
   "source": [
    "## Since there are two loops in there, so it should be O(n^2)"
   ]
  },
  {
   "cell_type": "code",
   "execution_count": null,
   "metadata": {
    "collapsed": true
   },
   "outputs": [],
   "source": []
  }
 ],
 "metadata": {
  "kernelspec": {
   "display_name": "Python 3",
   "language": "python",
   "name": "python3"
  },
  "language_info": {
   "codemirror_mode": {
    "name": "ipython",
    "version": 3
   },
   "file_extension": ".py",
   "mimetype": "text/x-python",
   "name": "python",
   "nbconvert_exporter": "python",
   "pygments_lexer": "ipython3",
   "version": "3.6.3"
  }
 },
 "nbformat": 4,
 "nbformat_minor": 0
}
