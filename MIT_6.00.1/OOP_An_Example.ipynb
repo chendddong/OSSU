{
 "cells": [
  {
   "cell_type": "code",
   "execution_count": 1,
   "metadata": {
    "collapsed": true
   },
   "outputs": [],
   "source": [
    "import datetime\n",
    "\n",
    "class Person(object):\n",
    "    def __init_(self, name):\n",
    "        '''create a person called name'''\n",
    "        self.name = name\n",
    "        self.birthday = None\n",
    "        self.lastName = name.split(' ')[-1]\n",
    "    \n",
    "    def getLastName(self):\n",
    "        '''return self's last name '''\n",
    "        return self.lastName\n",
    "    \n",
    "    def setBirthday(self, month, day, year):\n",
    "        '''sets self's bday to birthDate'''\n",
    "        self.birthday = datetime.date(year, month, day)\n",
    "    \n",
    "    def getAge(self):\n",
    "        '''return self's current age in days'''\n",
    "        if self.birthday == None:\n",
    "            raise ValueError\n",
    "        return (datetime.date.today() - self.birthday).days\n",
    "    \n",
    "    def __lt__(self, other):\n",
    "        '''\n",
    "           return True if self's name is lexicongraphically less\n",
    "           than ohter's name, and False otherwise\n",
    "        '''\n",
    "        # for the same first name situation\n",
    "        if self.lastName == other.name:\n",
    "            return self.name < other.name\n",
    "        \n",
    "        return self.lastName < other.lastName\n",
    "    \n",
    "    def __str__(self):\n",
    "        '''return self's name'''\n",
    "        return self.name"
   ]
  },
  {
   "cell_type": "code",
   "execution_count": null,
   "metadata": {
    "collapsed": true
   },
   "outputs": [],
   "source": []
  }
 ],
 "metadata": {
  "kernelspec": {
   "display_name": "Python 3",
   "language": "python",
   "name": "python3"
  },
  "language_info": {
   "codemirror_mode": {
    "name": "ipython",
    "version": 3
   },
   "file_extension": ".py",
   "mimetype": "text/x-python",
   "name": "python",
   "nbconvert_exporter": "python",
   "pygments_lexer": "ipython3",
   "version": "3.6.3"
  }
 },
 "nbformat": 4,
 "nbformat_minor": 0
}
