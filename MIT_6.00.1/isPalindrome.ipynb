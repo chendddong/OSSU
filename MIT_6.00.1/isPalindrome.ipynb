{
 "cells": [
  {
   "cell_type": "code",
   "execution_count": 5,
   "metadata": {
    "collapsed": true
   },
   "outputs": [],
   "source": [
    "def isPalindrome(s):\n",
    "    \n",
    "    def toChars(s):\n",
    "        # Convert those characters all to lower case\n",
    "        s = s.lower()\n",
    "        ans = \"\"\n",
    "        for c in s:\n",
    "            if c in \"abcdefghijklmnopqrstuvwxyz\":\n",
    "                ans = ans + c\n",
    "            return ans\n",
    "        \n",
    "    def isPal(s):\n",
    "        # Base case\n",
    "        if len(s) <= 1:\n",
    "            return True\n",
    "        else:\n",
    "            # first character and the last character and test the rest recursively\n",
    "            return s[0] == s[-1] and isPal(s[1:-1])\n",
    "        \n",
    "    return isPal(toChars(s))"
   ]
  },
  {
   "cell_type": "code",
   "execution_count": 4,
   "metadata": {
    "collapsed": false
   },
   "outputs": [
    {
     "data": {
      "text/plain": [
       "True"
      ]
     },
     "execution_count": 4,
     "metadata": {},
     "output_type": "execute_result"
    }
   ],
   "source": [
    "isPalindrome(\"aabbaa\")"
   ]
  },
  {
   "cell_type": "markdown",
   "metadata": {},
   "source": [
    "# Divide and conquer\n",
    "\n",
    "* an example of a \"divide and conquer\" algorithm\n",
    "* slove a hard problem by breaking it into a set of sub-problems such that:\n",
    "    * sub-problems are easier to solve thatn the original\n",
    "    * solutions of the sub-problems can be combined to solve the original"
   ]
  },
  {
   "cell_type": "code",
   "execution_count": null,
   "metadata": {
    "collapsed": true
   },
   "outputs": [],
   "source": []
  }
 ],
 "metadata": {
  "kernelspec": {
   "display_name": "Python 3",
   "language": "python",
   "name": "python3"
  },
  "language_info": {
   "codemirror_mode": {
    "name": "ipython",
    "version": 3
   },
   "file_extension": ".py",
   "mimetype": "text/x-python",
   "name": "python",
   "nbconvert_exporter": "python",
   "pygments_lexer": "ipython3",
   "version": "3.5.0"
  }
 },
 "nbformat": 4,
 "nbformat_minor": 2
}
