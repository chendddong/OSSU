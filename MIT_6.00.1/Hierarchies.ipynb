{
 "cells": [
  {
   "cell_type": "code",
   "execution_count": 1,
   "metadata": {
    "collapsed": true
   },
   "outputs": [],
   "source": [
    "# -*- coding: utf-8 -*-\n",
    "\"\"\"\n",
    "Created on Sat Jun 11 11:14:45 2016\n",
    "\n",
    "@author: ericgrimson\n",
    "\"\"\"\n",
    "\n",
    "class Animal(object):\n",
    "    def __init__(self, age):\n",
    "        self.age = age\n",
    "        self.name = None\n",
    "    def get_age(self):\n",
    "        return self.age\n",
    "    def get_name(self):\n",
    "        return self.name\n",
    "    def set_age(self, newage):\n",
    "        self.age = newage\n",
    "    def set_name(self, newname=\"\"):\n",
    "        self.name = newname\n",
    "    def __str__(self):\n",
    "        return \"animal:\"+str(self.name)+\":\"+str(self.age)\n",
    "\n",
    "class Cat(Animal):\n",
    "    def speak(self):\n",
    "        print(\"meow\")\n",
    "    def __str__(self):\n",
    "        return \"cat:\"+str(self.name)+\":\"+str(self.age)\n",
    "        \n",
    "class Rabbit(Animal):\n",
    "    def speak(self):\n",
    "        print(\"meep\")\n",
    "    def __str__(self):\n",
    "        return \"rabbit:\"+str(self.name)+\":\"+str(self.age)\n",
    "        \n",
    "class Person(Animal):\n",
    "    def __init__(self, name, age):\n",
    "        Animal.__init__(self, age)\n",
    "        Animal.set_name(self, name)\n",
    "        self.friends = []\n",
    "    def get_friends(self):\n",
    "        return self.friends\n",
    "    def add_friend(self, fname):\n",
    "        if fname not in self.friends:\n",
    "            self.friends.append(fname)\n",
    "    def speak(self):\n",
    "        print(\"hello\")\n",
    "    def age_diff(self, other):\n",
    "        # alternate way: diff = self.age - other.age\n",
    "        diff = self.get_age() - other.get_age()\n",
    "        if self.age > other.age:\n",
    "            print(self.name, \"is\", diff, \"years older than\", other.name)\n",
    "        else:\n",
    "            print(self.name, \"is\", -diff, \"years younger than\", other.name)\n",
    "    def __str__(self):\n",
    "        return \"person:\"+str(self.name)+\":\"+str(self.age)\n",
    "\n",
    "\n",
    "import random\n",
    "\n",
    "class Student(Person):\n",
    "    def __init__(self, name, age, major=None):\n",
    "        Person.__init__(self, name, age)\n",
    "        self.major = major\n",
    "    def change_major(self, major):\n",
    "       self.major = major\n",
    "    def speak(self):\n",
    "        r = random.random()\n",
    "        if r < 0.25:\n",
    "            print(\"i have homework\")\n",
    "        elif 0.25 <= r < 0.5:\n",
    "            print(\"i need sleep\")\n",
    "        elif 0.5 <= r < 0.75:\n",
    "            print(\"i should eat\")\n",
    "        else:\n",
    "            print(\"i am watching tv\")\n",
    "    def __str__(self):\n",
    "        return \"student:\"+str(self.name)+\":\"+str(self.age)+\":\"+str(self.major)\n",
    "\n",
    "#jelly = Cat(1)\n",
    "#jelly.set_name('Jelly')\n",
    "#tiger = Cat(1)\n",
    "#tiger.set_name('Tiger')\n",
    "#bean = Cat(0)\n",
    "#bean.set_name('Bean')\n",
    "#print(jelly)\n",
    "#jelly.speak()\n",
    "#blob = Animal(1)\n",
    "#peter = Rabbit(3)\n",
    "#peter.speak()\n",
    "#eric = Person('Eric', 45)\n",
    "#eric.speak()\n",
    "#john = Person('John', 55)\n",
    "#eric.age_diff(john)\n",
    "#\n",
    "#fred = Student('Fred', 18, 'Course VI')\n",
    "\n",
    "\n",
    "\n"
   ]
  },
  {
   "cell_type": "code",
   "execution_count": 2,
   "metadata": {
    "collapsed": false
   },
   "outputs": [
    {
     "name": "stdout",
     "output_type": "stream",
     "text": [
      "Accio\n",
      "Summoning Charm Accio\n",
      "No description\n",
      "Confundus Charm Confundo\n",
      "Causes the victim to become confused and befuddled.\n"
     ]
    }
   ],
   "source": [
    "class Spell(object):\n",
    "    def __init__(self, incantation, name):\n",
    "        self.name = name\n",
    "        self.incantation = incantation\n",
    "\n",
    "    def __str__(self):\n",
    "        return self.name + ' ' + self.incantation + '\\n' + self.getDescription()\n",
    "              \n",
    "    def getDescription(self):\n",
    "        return 'No description'\n",
    "    \n",
    "    def execute(self):\n",
    "        print(self.incantation)\n",
    "\n",
    "\n",
    "class Accio(Spell):\n",
    "    def __init__(self):\n",
    "        Spell.__init__(self, 'Accio', 'Summoning Charm')\n",
    "\n",
    "class Confundo(Spell):\n",
    "    def __init__(self):\n",
    "        Spell.__init__(self, 'Confundo', 'Confundus Charm')\n",
    "\n",
    "    def getDescription(self):\n",
    "        return 'Causes the victim to become confused and befuddled.'\n",
    "\n",
    "def studySpell(spell):\n",
    "    print(spell)\n",
    "\n",
    "spell = Accio()\n",
    "spell.execute()\n",
    "studySpell(spell)\n",
    "studySpell(Confundo())"
   ]
  },
  {
   "cell_type": "code",
   "execution_count": 3,
   "metadata": {
    "collapsed": true
   },
   "outputs": [],
   "source": [
    "class A(object):\n",
    "    def __init__(self):\n",
    "        self.a = 1\n",
    "    def x(self):\n",
    "        print(\"A.x\")\n",
    "    def y(self):\n",
    "        print(\"A.y\")\n",
    "    def z(self):\n",
    "        print(\"A.z\")\n",
    "\n",
    "class B(A):\n",
    "    def __init__(self):\n",
    "        A.__init__(self)\n",
    "        self.a = 2\n",
    "        self.b = 3\n",
    "    def y(self):\n",
    "        print(\"B.y\")\n",
    "    def z(self):\n",
    "        print(\"B.z\")\n",
    "\n",
    "class C(object):\n",
    "    def __init__(self):\n",
    "        self.a = 4\n",
    "        self.c = 5\n",
    "    def y(self):\n",
    "        print(\"C.y\")\n",
    "    def z(self):\n",
    "        print(\"C.z\")\n",
    "\n",
    "class D(C, B):\n",
    "    def __init__(self):\n",
    "        C.__init__(self)\n",
    "        B.__init__(self)\n",
    "        self.d = 6\n",
    "    def z(self):\n",
    "        print(\"D.z\")"
   ]
  },
  {
   "cell_type": "code",
   "execution_count": 4,
   "metadata": {
    "collapsed": true
   },
   "outputs": [],
   "source": [
    "obj = D()\n"
   ]
  },
  {
   "cell_type": "code",
   "execution_count": 5,
   "metadata": {
    "collapsed": false
   },
   "outputs": [
    {
     "name": "stdout",
     "output_type": "stream",
     "text": [
      "2\n"
     ]
    }
   ],
   "source": [
    "print(obj.a)"
   ]
  },
  {
   "cell_type": "code",
   "execution_count": 6,
   "metadata": {
    "collapsed": false
   },
   "outputs": [
    {
     "name": "stdout",
     "output_type": "stream",
     "text": [
      "3\n"
     ]
    }
   ],
   "source": [
    "print(obj.b)"
   ]
  },
  {
   "cell_type": "code",
   "execution_count": 7,
   "metadata": {
    "collapsed": false
   },
   "outputs": [
    {
     "name": "stdout",
     "output_type": "stream",
     "text": [
      "5\n"
     ]
    }
   ],
   "source": [
    "print(obj.c)"
   ]
  },
  {
   "cell_type": "code",
   "execution_count": 8,
   "metadata": {
    "collapsed": false
   },
   "outputs": [
    {
     "name": "stdout",
     "output_type": "stream",
     "text": [
      "6\n"
     ]
    }
   ],
   "source": [
    "print(obj.d)"
   ]
  },
  {
   "cell_type": "code",
   "execution_count": 9,
   "metadata": {
    "collapsed": false
   },
   "outputs": [
    {
     "name": "stdout",
     "output_type": "stream",
     "text": [
      "A.x\n"
     ]
    }
   ],
   "source": [
    "obj.x()"
   ]
  },
  {
   "cell_type": "code",
   "execution_count": 10,
   "metadata": {
    "collapsed": false
   },
   "outputs": [
    {
     "name": "stdout",
     "output_type": "stream",
     "text": [
      "C.y\n"
     ]
    }
   ],
   "source": [
    "obj.y()"
   ]
  },
  {
   "cell_type": "code",
   "execution_count": 11,
   "metadata": {
    "collapsed": false
   },
   "outputs": [
    {
     "name": "stdout",
     "output_type": "stream",
     "text": [
      "D.z\n"
     ]
    }
   ],
   "source": [
    "obj.z()"
   ]
  },
  {
   "cell_type": "code",
   "execution_count": null,
   "metadata": {
    "collapsed": true
   },
   "outputs": [],
   "source": []
  }
 ],
 "metadata": {
  "kernelspec": {
   "display_name": "Python 3",
   "language": "python",
   "name": "python3"
  },
  "language_info": {
   "codemirror_mode": {
    "name": "ipython",
    "version": 3
   },
   "file_extension": ".py",
   "mimetype": "text/x-python",
   "name": "python",
   "nbconvert_exporter": "python",
   "pygments_lexer": "ipython3",
   "version": "3.6.3"
  }
 },
 "nbformat": 4,
 "nbformat_minor": 0
}
