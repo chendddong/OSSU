{
 "cells": [
  {
   "cell_type": "markdown",
   "metadata": {},
   "source": [
    "### Lists n is Len(L)\n",
    "\n",
    "* index               O(1)\n",
    "* store               O(1)\n",
    "* length               O(1)\n",
    "* append               O(1)\n",
    "* ==               O(n)\n",
    "* remove               O(n)\n",
    "* copy               O(n)\n",
    "* reverse               O(n)\n",
    "* interation               O(n)\n",
    "* in list               O(n)\n",
    "\n",
    "\n",
    "### Dictionary n is len(d)\n",
    "\n",
    "* Wrost case:\n",
    "    * index               O(n) \n",
    "    * store               O(n)\n",
    "    * length               O(n)\n",
    "    * delete               O(n)\n",
    "    * iteration               O(n)\n",
    "* Average case:\n",
    "    * index               O(1)\n",
    "    * store               O(1)\n",
    "    * delete               O(1)\n",
    "    * iteration            O(n)\n"
   ]
  },
  {
   "cell_type": "code",
   "execution_count": null,
   "metadata": {
    "collapsed": true
   },
   "outputs": [],
   "source": []
  }
 ],
 "metadata": {
  "kernelspec": {
   "display_name": "Python 3",
   "language": "python",
   "name": "python3"
  },
  "language_info": {
   "codemirror_mode": {
    "name": "ipython",
    "version": 3
   },
   "file_extension": ".py",
   "mimetype": "text/x-python",
   "name": "python",
   "nbconvert_exporter": "python",
   "pygments_lexer": "ipython3",
   "version": "3.6.3"
  }
 },
 "nbformat": 4,
 "nbformat_minor": 0
}
