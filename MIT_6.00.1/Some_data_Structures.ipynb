{
 "cells": [
  {
   "cell_type": "code",
   "execution_count": 1,
   "metadata": {
    "collapsed": true
   },
   "outputs": [],
   "source": [
    "def get_data(aTuple):\n",
    "    nums = ()\n",
    "    words = ()\n",
    "    for t in aTuple:\n",
    "        nums += (t[0],)\n",
    "        if t[1] not in words:\n",
    "            words += (t[1],)\n",
    "    min_nums = min(nums)\n",
    "    max_nums = max(nums)\n",
    "    unique_words = len(words)\n",
    "    \n",
    "    return (min_nums, max_nums, unique_words)"
   ]
  },
  {
   "cell_type": "code",
   "execution_count": 2,
   "metadata": {
    "collapsed": true
   },
   "outputs": [],
   "source": [
    "(small, large, words) = get_data(((1, 'mine'),\n",
    "                                 (3, 'yours'),\n",
    "                                 (5, 'ours'),\n",
    "                                 (7, 'mine')))"
   ]
  },
  {
   "cell_type": "code",
   "execution_count": 3,
   "metadata": {
    "collapsed": false
   },
   "outputs": [
    {
     "data": {
      "text/plain": [
       "1"
      ]
     },
     "execution_count": 3,
     "metadata": {},
     "output_type": "execute_result"
    }
   ],
   "source": [
    "small"
   ]
  },
  {
   "cell_type": "code",
   "execution_count": 4,
   "metadata": {
    "collapsed": false
   },
   "outputs": [
    {
     "data": {
      "text/plain": [
       "7"
      ]
     },
     "execution_count": 4,
     "metadata": {},
     "output_type": "execute_result"
    }
   ],
   "source": [
    "large"
   ]
  },
  {
   "cell_type": "code",
   "execution_count": 5,
   "metadata": {
    "collapsed": false
   },
   "outputs": [
    {
     "data": {
      "text/plain": [
       "3"
      ]
     },
     "execution_count": 5,
     "metadata": {},
     "output_type": "execute_result"
    }
   ],
   "source": [
    "words"
   ]
  },
  {
   "cell_type": "code",
   "execution_count": 6,
   "metadata": {
    "collapsed": true
   },
   "outputs": [],
   "source": [
    "x = (1, 2, (3, 'John', 4), 'Hi')"
   ]
  },
  {
   "cell_type": "code",
   "execution_count": 9,
   "metadata": {
    "collapsed": false
   },
   "outputs": [
    {
     "data": {
      "text/plain": [
       "1"
      ]
     },
     "execution_count": 9,
     "metadata": {},
     "output_type": "execute_result"
    }
   ],
   "source": [
    "x[0]"
   ]
  },
  {
   "cell_type": "code",
   "execution_count": 25,
   "metadata": {
    "collapsed": true
   },
   "outputs": [],
   "source": [
    "def oddTuples(aTup):\n",
    "    i = 0\n",
    "    ans = ()\n",
    "    maxL = len(aTup)\n",
    "    \n",
    "    for t in aTup:\n",
    "        \n",
    "        if i % 2 == 0 and i < maxL:\n",
    "            ans += (t,)\n",
    "            \n",
    "        i = i + 1\n",
    "    return ans\n",
    "            "
   ]
  },
  {
   "cell_type": "code",
   "execution_count": 26,
   "metadata": {
    "collapsed": true
   },
   "outputs": [],
   "source": [
    "aTup = ('I', 'am', 'a', 'test', 'tuple')"
   ]
  },
  {
   "cell_type": "code",
   "execution_count": 27,
   "metadata": {
    "collapsed": false
   },
   "outputs": [
    {
     "data": {
      "text/plain": [
       "('I', 'a', 'tuple')"
      ]
     },
     "execution_count": 27,
     "metadata": {},
     "output_type": "execute_result"
    }
   ],
   "source": [
    "oddTuples(aTup)"
   ]
  },
  {
   "cell_type": "code",
   "execution_count": 28,
   "metadata": {
    "collapsed": true
   },
   "outputs": [],
   "source": [
    "listA = [1, 4, 3, 0]\n",
    "listB = ['x', 'z', 't', 'q']"
   ]
  },
  {
   "cell_type": "code",
   "execution_count": 29,
   "metadata": {
    "collapsed": false
   },
   "outputs": [
    {
     "data": {
      "text/plain": [
       "<function sort>"
      ]
     },
     "execution_count": 29,
     "metadata": {},
     "output_type": "execute_result"
    }
   ],
   "source": [
    "listA.sort"
   ]
  },
  {
   "cell_type": "code",
   "execution_count": 30,
   "metadata": {
    "collapsed": true
   },
   "outputs": [],
   "source": [
    "listA.sort()"
   ]
  },
  {
   "cell_type": "code",
   "execution_count": 31,
   "metadata": {
    "collapsed": false
   },
   "outputs": [
    {
     "data": {
      "text/plain": [
       "True"
      ]
     },
     "execution_count": 31,
     "metadata": {},
     "output_type": "execute_result"
    }
   ],
   "source": [
    "aList = [0, 1, 2, 3, 4, 5]\n",
    "bList = aList\n",
    "aList[2] = 'hello'\n",
    "aList == bList"
   ]
  },
  {
   "cell_type": "code",
   "execution_count": 32,
   "metadata": {
    "collapsed": false
   },
   "outputs": [
    {
     "data": {
      "text/plain": [
       "True"
      ]
     },
     "execution_count": 32,
     "metadata": {},
     "output_type": "execute_result"
    }
   ],
   "source": [
    "aList is bList"
   ]
  },
  {
   "cell_type": "code",
   "execution_count": 33,
   "metadata": {
    "collapsed": false,
    "scrolled": true
   },
   "outputs": [
    {
     "data": {
      "text/plain": [
       "[0, 1, 'hello', 3, 4, 5]"
      ]
     },
     "execution_count": 33,
     "metadata": {},
     "output_type": "execute_result"
    }
   ],
   "source": [
    "aList"
   ]
  },
  {
   "cell_type": "code",
   "execution_count": 34,
   "metadata": {
    "collapsed": false
   },
   "outputs": [
    {
     "data": {
      "text/plain": [
       "[0, 1, 'hello', 3, 4, 5]"
      ]
     },
     "execution_count": 34,
     "metadata": {},
     "output_type": "execute_result"
    }
   ],
   "source": [
    "bList"
   ]
  },
  {
   "cell_type": "code",
   "execution_count": 36,
   "metadata": {
    "collapsed": false
   },
   "outputs": [
    {
     "data": {
      "text/plain": [
       "True"
      ]
     },
     "execution_count": 36,
     "metadata": {},
     "output_type": "execute_result"
    }
   ],
   "source": [
    "cList = [6, 5, 4, 3, 2]\n",
    "dList = []\n",
    "for num in cList:\n",
    "    dList.append(num)\n",
    "cList == dList"
   ]
  },
  {
   "cell_type": "code",
   "execution_count": 37,
   "metadata": {
    "collapsed": false
   },
   "outputs": [
    {
     "data": {
      "text/plain": [
       "False"
      ]
     },
     "execution_count": 37,
     "metadata": {},
     "output_type": "execute_result"
    }
   ],
   "source": [
    "cList is dList"
   ]
  },
  {
   "cell_type": "code",
   "execution_count": 38,
   "metadata": {
    "collapsed": false
   },
   "outputs": [
    {
     "data": {
      "text/plain": [
       "[6, 5, 20, 3, 2]"
      ]
     },
     "execution_count": 38,
     "metadata": {},
     "output_type": "execute_result"
    }
   ],
   "source": [
    "cList[2] = 20\n",
    "cList"
   ]
  },
  {
   "cell_type": "code",
   "execution_count": 39,
   "metadata": {
    "collapsed": false
   },
   "outputs": [
    {
     "data": {
      "text/plain": [
       "[6, 5, 4, 3, 2]"
      ]
     },
     "execution_count": 39,
     "metadata": {},
     "output_type": "execute_result"
    }
   ],
   "source": [
    "dList"
   ]
  },
  {
   "cell_type": "code",
   "execution_count": 45,
   "metadata": {
    "collapsed": false
   },
   "outputs": [],
   "source": [
    "def appyToEach(L, f):\n",
    "    for i in range(len(L)):\n",
    "        L[i] = f(L[i])"
   ]
  },
  {
   "cell_type": "code",
   "execution_count": 48,
   "metadata": {
    "collapsed": false,
    "scrolled": true
   },
   "outputs": [
    {
     "data": {
      "text/plain": [
       "[1, 2, 3.5]"
      ]
     },
     "execution_count": 48,
     "metadata": {},
     "output_type": "execute_result"
    }
   ],
   "source": [
    "L = [1, -2, 3.5]\n",
    "appyToEach(L, abs)\n",
    "L\n",
    "\n",
    "# appyToEach(L, fact) factorial\n",
    "\n",
    "# appyToEach(L, fib) fibonacci\n"
   ]
  },
  {
   "cell_type": "code",
   "execution_count": 49,
   "metadata": {
    "collapsed": false
   },
   "outputs": [
    {
     "data": {
      "text/plain": [
       "[1, 2, 3]"
      ]
     },
     "execution_count": 49,
     "metadata": {},
     "output_type": "execute_result"
    }
   ],
   "source": [
    "appyToEach(L, int)\n",
    "L"
   ]
  },
  {
   "cell_type": "code",
   "execution_count": 50,
   "metadata": {
    "collapsed": true
   },
   "outputs": [],
   "source": [
    "def applyFuns(L, x):\n",
    "    for f in L:\n",
    "        print(f(x))"
   ]
  },
  {
   "cell_type": "code",
   "execution_count": 51,
   "metadata": {
    "collapsed": false
   },
   "outputs": [
    {
     "name": "stdout",
     "output_type": "stream",
     "text": [
      "7\n",
      "-7\n"
     ]
    }
   ],
   "source": [
    "applyFuns([abs, int], -7)"
   ]
  },
  {
   "cell_type": "code",
   "execution_count": 52,
   "metadata": {
    "collapsed": false
   },
   "outputs": [
    {
     "data": {
      "text/plain": [
       "[1, -2, 3.5, 1, -2, 3.5, 1, -2, 3.5]"
      ]
     },
     "execution_count": 52,
     "metadata": {},
     "output_type": "execute_result"
    }
   ],
   "source": [
    "L = [1, -2, 3.5]\n",
    "3*L"
   ]
  },
  {
   "cell_type": "markdown",
   "metadata": {},
   "source": [
    "### manipulation of the sequence\n",
    "\n",
    "A is a list and B is also a list\n",
    "\n",
    "* A[i] --> ith element of the A\n",
    "* len(A) --> length of the A\n",
    "* A + B --> concatenation of the two lists\n",
    "* n * A --> list that repeats A n times.\n",
    "* A[start:end] --> slice of A\n",
    "* e in A --> True if e contained in A\n",
    "* e not in A --> True if e not contained in A\n",
    "* for e in seq --> iterates over elments of sequence"
   ]
  },
  {
   "cell_type": "code",
   "execution_count": 53,
   "metadata": {
    "collapsed": true
   },
   "outputs": [],
   "source": [
    "grades = {'Peter':'A', 'Peng':'A'}"
   ]
  },
  {
   "cell_type": "code",
   "execution_count": 58,
   "metadata": {
    "collapsed": false
   },
   "outputs": [
    {
     "data": {
      "text/plain": [
       "'A'"
      ]
     },
     "execution_count": 58,
     "metadata": {},
     "output_type": "execute_result"
    }
   ],
   "source": [
    "grades['Peter']"
   ]
  },
  {
   "cell_type": "code",
   "execution_count": 59,
   "metadata": {
    "collapsed": false
   },
   "outputs": [
    {
     "data": {
      "text/plain": [
       "['Peng', 'Peter']"
      ]
     },
     "execution_count": 59,
     "metadata": {},
     "output_type": "execute_result"
    }
   ],
   "source": [
    "grades.keys()"
   ]
  },
  {
   "cell_type": "code",
   "execution_count": 60,
   "metadata": {
    "collapsed": false
   },
   "outputs": [
    {
     "data": {
      "text/plain": [
       "['A', 'A']"
      ]
     },
     "execution_count": 60,
     "metadata": {},
     "output_type": "execute_result"
    }
   ],
   "source": [
    "grades.values()\n"
   ]
  },
  {
   "cell_type": "code",
   "execution_count": 61,
   "metadata": {
    "collapsed": true
   },
   "outputs": [],
   "source": [
    "animals = {'a': 'aardvark', 'b': 'baboon', 'c': 'coati'}\n",
    "\n",
    "animals['d'] = 'donkey'"
   ]
  },
  {
   "cell_type": "code",
   "execution_count": 62,
   "metadata": {
    "collapsed": false
   },
   "outputs": [
    {
     "data": {
      "text/plain": [
       "{'a': 'aardvark', 'b': 'baboon', 'c': 'coati', 'd': 'donkey'}"
      ]
     },
     "execution_count": 62,
     "metadata": {},
     "output_type": "execute_result"
    }
   ],
   "source": [
    "animals"
   ]
  },
  {
   "cell_type": "code",
   "execution_count": 63,
   "metadata": {
    "collapsed": false
   },
   "outputs": [
    {
     "data": {
      "text/plain": [
       "'coati'"
      ]
     },
     "execution_count": 63,
     "metadata": {},
     "output_type": "execute_result"
    }
   ],
   "source": [
    "animals['c']"
   ]
  },
  {
   "cell_type": "code",
   "execution_count": 64,
   "metadata": {
    "collapsed": false
   },
   "outputs": [
    {
     "ename": "KeyError",
     "evalue": "'donkey'",
     "output_type": "error",
     "traceback": [
      "\u001b[1;31m---------------------------------------------------------------------------\u001b[0m",
      "\u001b[1;31mKeyError\u001b[0m                                  Traceback (most recent call last)",
      "\u001b[1;32m<ipython-input-64-ac4ebbb19b30>\u001b[0m in \u001b[0;36m<module>\u001b[1;34m()\u001b[0m\n\u001b[1;32m----> 1\u001b[1;33m \u001b[0manimals\u001b[0m\u001b[1;33m[\u001b[0m\u001b[1;34m'donkey'\u001b[0m\u001b[1;33m]\u001b[0m\u001b[1;33m\u001b[0m\u001b[0m\n\u001b[0m",
      "\u001b[1;31mKeyError\u001b[0m: 'donkey'"
     ]
    }
   ],
   "source": [
    "animals['donkey']"
   ]
  },
  {
   "cell_type": "code",
   "execution_count": 65,
   "metadata": {
    "collapsed": false
   },
   "outputs": [
    {
     "data": {
      "text/plain": [
       "4"
      ]
     },
     "execution_count": 65,
     "metadata": {},
     "output_type": "execute_result"
    }
   ],
   "source": [
    "len(animals)"
   ]
  },
  {
   "cell_type": "code",
   "execution_count": 66,
   "metadata": {
    "collapsed": false
   },
   "outputs": [
    {
     "data": {
      "text/plain": [
       "False"
      ]
     },
     "execution_count": 66,
     "metadata": {},
     "output_type": "execute_result"
    }
   ],
   "source": [
    "'baboon' in animals"
   ]
  },
  {
   "cell_type": "code",
   "execution_count": 67,
   "metadata": {
    "collapsed": false
   },
   "outputs": [
    {
     "data": {
      "text/plain": [
       "True"
      ]
     },
     "execution_count": 67,
     "metadata": {},
     "output_type": "execute_result"
    }
   ],
   "source": [
    "'donkey' in animals.values()"
   ]
  },
  {
   "cell_type": "code",
   "execution_count": 68,
   "metadata": {
    "collapsed": false
   },
   "outputs": [
    {
     "data": {
      "text/plain": [
       "True"
      ]
     },
     "execution_count": 68,
     "metadata": {},
     "output_type": "execute_result"
    }
   ],
   "source": [
    "'b' in animals"
   ]
  },
  {
   "cell_type": "code",
   "execution_count": 69,
   "metadata": {
    "collapsed": false,
    "scrolled": false
   },
   "outputs": [
    {
     "data": {
      "text/plain": [
       "['a', 'c', 'b', 'd']"
      ]
     },
     "execution_count": 69,
     "metadata": {},
     "output_type": "execute_result"
    }
   ],
   "source": [
    "animals.keys()"
   ]
  },
  {
   "cell_type": "code",
   "execution_count": 70,
   "metadata": {
    "collapsed": true
   },
   "outputs": [],
   "source": [
    "del animals['b']"
   ]
  },
  {
   "cell_type": "code",
   "execution_count": 71,
   "metadata": {
    "collapsed": false
   },
   "outputs": [
    {
     "data": {
      "text/plain": [
       "3"
      ]
     },
     "execution_count": 71,
     "metadata": {},
     "output_type": "execute_result"
    }
   ],
   "source": [
    "len(animals)"
   ]
  },
  {
   "cell_type": "code",
   "execution_count": 72,
   "metadata": {
    "collapsed": false
   },
   "outputs": [
    {
     "data": {
      "text/plain": [
       "['aardvark', 'coati', 'donkey']"
      ]
     },
     "execution_count": 72,
     "metadata": {},
     "output_type": "execute_result"
    }
   ],
   "source": [
    "animals.values()"
   ]
  },
  {
   "cell_type": "code",
   "execution_count": 73,
   "metadata": {
    "collapsed": true
   },
   "outputs": [],
   "source": [
    "def lyrics_to_frequencies(lyrics):\n",
    "    myDict = {}\n",
    "    for word in lyrics:\n",
    "        if word in myDict:\n",
    "            myDict[word] += 1\n",
    "        else:\n",
    "            myDict[word] = 1\n",
    "    return myDict"
   ]
  },
  {
   "cell_type": "code",
   "execution_count": 96,
   "metadata": {
    "collapsed": false
   },
   "outputs": [],
   "source": [
    "love_your_self = '''\n",
    "For all the times that you rain on my parade\n",
    "And all the clubs you get in using my name\n",
    "You think you broke my heart, oh girl for goodness sake\n",
    "You think I'm crying, on my own well I ain't\n",
    "And I didn't wanna write a song 'cause I didn't want anyone thinking I still care\n",
    "I don't but, you still hit my phone up\n",
    "And baby I be movin' on and I think you should be somethin'\n",
    "I don't wanna hold back, maybe you should know that\n",
    "My mama don't like you and she likes everyone\n",
    "And I never like to admit that I was wrong\n",
    "And I've been so caught up in my job, didn't see what's going on\n",
    "And now I know, I'm better sleeping on my own\n",
    "'Cause if you like the way you look that much\n",
    "Oh baby you should go and love yourself\n",
    "And if you think that I'm still holdin' on to somethin'\n",
    "You should go and love yourself\n",
    "But when you told me that you hated my friends\n",
    "The only problem was with you and not them\n",
    "And every time you told me my opinion was wrong\n",
    "And tried to make me forget where I came from\n",
    "And I didn't wanna write a song cause I didn't want anyone thinking I still care\n",
    "I don't but, you still hit my phone up\n",
    "And baby I be movin' on and I think you should be somethin'\n",
    "I don't wanna hold back, maybe you should know that\n",
    "My mama don't like you and she likes everyone\n",
    "And I never like to admit that I was wrong\n",
    "And I've been so caught up in my job, didn't see what's going on\n",
    "And now I know, I'm better sleeping on my own\n",
    "'Cause if you like the way you look that much\n",
    "Oh baby you should go and love yourself\n",
    "And if you think that I'm still holdin' on to somethin'\n",
    "You should go and love yourself\n",
    "For all the times you made me feel small\n",
    "I fell in love, now I feel nothin' at all\n",
    "I never felt so low when I was vulnerable\n",
    "Was I a fool to let you break down my walls?\n",
    "'Cause if you like the way you look that much\n",
    "Oh baby you should go and love yourself\n",
    "And if you think that I'm still holdin' on to somethin'\n",
    "You should go and love yourself\n",
    "'Cause if you like the way you look that much\n",
    "Oh baby you should go and love yourself\n",
    "And if you think that I'm still holdin' on to somethin'\n",
    "You should go and love yourself\n",
    "'''"
   ]
  },
  {
   "cell_type": "code",
   "execution_count": 97,
   "metadata": {
    "collapsed": false
   },
   "outputs": [],
   "source": [
    "love_your_self_list = love_your_self.split()"
   ]
  },
  {
   "cell_type": "code",
   "execution_count": 98,
   "metadata": {
    "collapsed": false
   },
   "outputs": [],
   "source": [
    "freqs = lyrics_to_frequencies(love_your_self_list)"
   ]
  },
  {
   "cell_type": "code",
   "execution_count": 99,
   "metadata": {
    "collapsed": true
   },
   "outputs": [],
   "source": [
    "def most_common_words(freqs):\n",
    "    values = freqs.values()\n",
    "    best = max(values)\n",
    "    words = []\n",
    "    for k in freqs:\n",
    "        if freqs[k] == best:\n",
    "            words.append(k)\n",
    "    return (words, best)"
   ]
  },
  {
   "cell_type": "code",
   "execution_count": 100,
   "metadata": {
    "collapsed": false
   },
   "outputs": [
    {
     "data": {
      "text/plain": [
       "(['you'], 33)"
      ]
     },
     "execution_count": 100,
     "metadata": {},
     "output_type": "execute_result"
    }
   ],
   "source": [
    "most_common_words(freqs)"
   ]
  },
  {
   "cell_type": "code",
   "execution_count": 102,
   "metadata": {
    "collapsed": false
   },
   "outputs": [
    {
     "data": {
      "text/plain": [
       "[(['you'], 33)]"
      ]
     },
     "execution_count": 102,
     "metadata": {},
     "output_type": "execute_result"
    }
   ],
   "source": [
    "def words_often(freqs, minTimes):\n",
    "    result = []\n",
    "    done = False\n",
    "    \n",
    "    while not done:\n",
    "        temp = most_common_words(freqs)\n",
    "        if temp[1] > minTimes:\n",
    "            result.append(temp)\n",
    "            for w in temp[0]:\n",
    "                del(freqs[w])\n",
    "            else:\n",
    "                done = True\n",
    "        return result\n",
    "    \n",
    "words_often(freqs, 5)"
   ]
  },
  {
   "cell_type": "markdown",
   "metadata": {},
   "source": [
    "### How many animals"
   ]
  },
  {
   "cell_type": "code",
   "execution_count": 106,
   "metadata": {
    "collapsed": false
   },
   "outputs": [
    {
     "data": {
      "text/plain": [
       "[['aardvark'], ['coati'], ['baboon'], ['donkey', 'dog', 'dingo']]"
      ]
     },
     "execution_count": 106,
     "metadata": {},
     "output_type": "execute_result"
    }
   ],
   "source": [
    "animals = { 'a': ['aardvark'], 'b': ['baboon'], 'c': ['coati']}\n",
    "\n",
    "animals['d'] = ['donkey']\n",
    "animals['d'].append('dog')\n",
    "animals['d'].append('dingo')\n",
    "\n",
    "animals.values()"
   ]
  },
  {
   "cell_type": "code",
   "execution_count": 107,
   "metadata": {
    "collapsed": false
   },
   "outputs": [
    {
     "data": {
      "text/plain": [
       "6"
      ]
     },
     "execution_count": 107,
     "metadata": {},
     "output_type": "execute_result"
    }
   ],
   "source": [
    "def how_many(aDict):\n",
    "    '''\n",
    "    aDict: A dictionary, where all the values are lists.\n",
    "\n",
    "    returns: int, how many values are in the dictionary.\n",
    "    '''\n",
    "    num = 0\n",
    "    for e in aDict.values():\n",
    "        num = num + len(e)\n",
    "    return num\n",
    "\n",
    "how_many(animals)"
   ]
  },
  {
   "cell_type": "markdown",
   "metadata": {},
   "source": [
    "### Biggest\n",
    "\n",
    "This time, write a procedure, called biggest, which returns the key corresponding to the entry with the largest number of values associated with it. If there is more than one such entry, return any one of the matching keys.\n",
    "\n",
    "Example usage:\n",
    "\n",
    "biggest(animals)\n",
    "'d'\n",
    "\n",
    "\n",
    "If there are no values in the dictionary, biggest should return None."
   ]
  },
  {
   "cell_type": "code",
   "execution_count": 118,
   "metadata": {
    "collapsed": true
   },
   "outputs": [],
   "source": [
    "def biggest(aDict):\n",
    "    '''\n",
    "    aDict: A dictionary, where all the values are lists.\n",
    "\n",
    "    returns: The key with the largest number of values associated with it\n",
    "    '''    \n",
    "    \n",
    "    result = None\n",
    "    biggestValue = 0\n",
    "    for key in aDict.keys():\n",
    "        if len(aDict[key]) >= biggestValue:\n",
    "            result = key\n",
    "            biggestValue = len(aDict[key])\n",
    "    return result    "
   ]
  },
  {
   "cell_type": "code",
   "execution_count": 119,
   "metadata": {
    "collapsed": false
   },
   "outputs": [
    {
     "data": {
      "text/plain": [
       "'b'"
      ]
     },
     "execution_count": 119,
     "metadata": {},
     "output_type": "execute_result"
    }
   ],
   "source": [
    "animals = { 'a': ['aardvark'], 'b': ['baboon'], 'c': ['coati']}\n",
    "biggest(animals)"
   ]
  },
  {
   "cell_type": "markdown",
   "metadata": {},
   "source": [
    "### Fibonacci with Memorization"
   ]
  },
  {
   "cell_type": "code",
   "execution_count": 127,
   "metadata": {
    "collapsed": true
   },
   "outputs": [],
   "source": [
    "def fib_Recur(n):\n",
    "    global numFibCalls\n",
    "    numFibCalls += 1\n",
    "    if n == 1:\n",
    "        return 1\n",
    "    elif n == 2:\n",
    "        return 2\n",
    "    else:\n",
    "        return fib_Recur(n - 1) + fib_Recur(n - 2)\n",
    "\n",
    "\n",
    "def fib_Memo(n, d):\n",
    "    global numFibCalls\n",
    "    numFibCalls += 1\n",
    "    '''\n",
    "    n is the number \n",
    "    \n",
    "    d is the dictionary for storing the temp values\n",
    "    '''\n",
    "    if n in d:\n",
    "        return d[n]\n",
    "    else: \n",
    "        ans = fib_Memo(n - 1, d) + fib_Memo(n - 2, d)\n",
    "        d[n] = ans\n",
    "        return ans"
   ]
  },
  {
   "cell_type": "code",
   "execution_count": null,
   "metadata": {
    "collapsed": false
   },
   "outputs": [],
   "source": []
  },
  {
   "cell_type": "markdown",
   "metadata": {},
   "source": [
    "#### Tracking the effeciency\n",
    "\n",
    "We can see the different of how many times the function have been called."
   ]
  },
  {
   "cell_type": "code",
   "execution_count": 129,
   "metadata": {
    "collapsed": false
   },
   "outputs": [
    {
     "name": "stdout",
     "output_type": "stream",
     "text": [
      "9227465\n",
      "('function calls ', 11405773)\n",
      "9227465\n",
      "('function calls ', 65)\n"
     ]
    }
   ],
   "source": [
    "numFibCalls = 0\n",
    "fibArg = 34\n",
    "\n",
    "print(fib_Recur(fibArg))\n",
    "print(\"function calls \", numFibCalls)\n",
    "\n",
    "numFibCalls = 0\n",
    "\n",
    "d = {1:1, 2:2}\n",
    "print(fib_Memo(fibArg, d))\n",
    "print(\"function calls \", numFibCalls)"
   ]
  },
  {
   "cell_type": "markdown",
   "metadata": {},
   "source": [
    "## Hangman\n"
   ]
  },
  {
   "cell_type": "code",
   "execution_count": 134,
   "metadata": {
    "collapsed": false
   },
   "outputs": [
    {
     "name": "stdout",
     "output_type": "stream",
     "text": [
      "Loading word list from file...\n",
      "   55909 words loaded.\n",
      "Welcome to the game, Hangman!\n",
      "I am thinking of a word that is 10 letters long.\n",
      "-------------\n",
      "You have 8 guesses left\n",
      "Available Letters: abcdefghijklmnopqrstuvwxyz\n",
      "Please guess a letter: d\n",
      "Good guess: _ _ _ _ _ _ _ _ _ d \n",
      "-------------\n",
      "You have 8 guesses left\n",
      "Available Letters: abcefghijklmnopqrstuvwxyz\n",
      "Please guess a letter: e\n",
      "Good guess: _ e _ e _ e _ _ e d \n",
      "-------------\n",
      "You have 8 guesses left\n",
      "Available Letters: abcfghijklmnopqrstuvwxyz\n",
      "Please guess a letter: g\n",
      "Oops! That letter is not in my word: _ e _ e _ e _ _ e d \n",
      "-------------\n",
      "You have 7 guesses left\n",
      "Available Letters: abcfhijklmnopqrstuvwxyz\n",
      "Please guess a letter: g\n",
      "Oops! You've already guessed that letter: _ e _ e _ e _ _ e d \n",
      "-------------\n",
      "You have 7 guesses left\n",
      "Available Letters: abcfhijklmnopqrstuvwxyz\n",
      "Please guess a letter: g\n",
      "Oops! You've already guessed that letter: _ e _ e _ e _ _ e d \n",
      "-------------\n",
      "You have 7 guesses left\n",
      "Available Letters: abcfhijklmnopqrstuvwxyz\n",
      "Please guess a letter: h\n",
      "Oops! That letter is not in my word: _ e _ e _ e _ _ e d \n",
      "-------------\n",
      "You have 6 guesses left\n",
      "Available Letters: abcfijklmnopqrstuvwxyz\n",
      "Please guess a letter: i\n",
      "Oops! That letter is not in my word: _ e _ e _ e _ _ e d \n",
      "-------------\n",
      "You have 5 guesses left\n",
      "Available Letters: abcfjklmnopqrstuvwxyz\n",
      "Please guess a letter: j\n",
      "Oops! That letter is not in my word: _ e _ e _ e _ _ e d \n",
      "-------------\n",
      "You have 4 guesses left\n",
      "Available Letters: abcfklmnopqrstuvwxyz\n",
      "Please guess a letter: k\n",
      "Oops! That letter is not in my word: _ e _ e _ e _ _ e d \n",
      "-------------\n",
      "You have 3 guesses left\n",
      "Available Letters: abcflmnopqrstuvwxyz\n",
      "Please guess a letter: l\n",
      "Oops! That letter is not in my word: _ e _ e _ e _ _ e d \n",
      "-------------\n",
      "You have 2 guesses left\n",
      "Available Letters: abcfmnopqrstuvwxyz\n",
      "Please guess a letter: m\n",
      "Oops! That letter is not in my word: _ e _ e _ e _ _ e d \n",
      "-------------\n",
      "You have 1 guesses left\n",
      "Available Letters: abcfnopqrstuvwxyz\n",
      "Please guess a letter: n\n",
      "Good guess: _ e _ e _ e n _ e d \n",
      "-------------\n",
      "You have 1 guesses left\n",
      "Available Letters: abcfopqrstuvwxyz\n",
      "Please guess a letter: p\n",
      "Oops! That letter is not in my word: _ e _ e _ e n _ e d \n",
      "-------------\n",
      "Sorry, you ran out of guesses. The word was referenced.\n"
     ]
    }
   ],
   "source": [
    "# 6.00 Problem Set 3\n",
    "# \n",
    "# Hangman game\n",
    "#\n",
    "\n",
    "# -----------------------------------\n",
    "# Helper code\n",
    "# You don't need to understand this helper code,\n",
    "# but you will have to know how to use the functions\n",
    "# (so be sure to read the docstrings!)\n",
    "\n",
    "import random\n",
    "import string\n",
    "\n",
    "WORDLIST_FILENAME = \"words.txt\"\n",
    "\n",
    "def loadWords():\n",
    "    \"\"\"\n",
    "    Returns a list of valid words. Words are strings of lowercase letters.\n",
    "    \n",
    "    Depending on the size of the word list, this function may\n",
    "    take a while to finish.\n",
    "    \"\"\"\n",
    "    print \"Loading word list from file...\"\n",
    "    # inFile: file\n",
    "    inFile = open(WORDLIST_FILENAME, 'r', 0)\n",
    "    # line: string\n",
    "    line = inFile.readline()\n",
    "    # wordlist: list of strings\n",
    "    wordlist = string.split(line)\n",
    "    print \"  \", len(wordlist), \"words loaded.\"\n",
    "    return wordlist\n",
    "\n",
    "def chooseWord(wordlist):\n",
    "    \"\"\"\n",
    "    wordlist (list): list of words (strings)\n",
    "    Returns a word from wordlist at random\n",
    "    \"\"\"\n",
    "    return random.choice(wordlist)\n",
    "\n",
    "# end of helper code\n",
    "# -----------------------------------\n",
    "\n",
    "# Load the list of words into the variable wordlist\n",
    "# so that it can be accessed from anywhere in the program\n",
    "wordlist = loadWords()\n",
    "\n",
    "def isWordGuessed(secretWord, lettersGuessed):\n",
    "    '''\n",
    "    secretWord: string, the word the user is guessing\n",
    "    lettersGuessed: list, what letters have been guessed so far\n",
    "    returns: boolean, True if all the letters of secretWord are in lettersGuessed;\n",
    "      False otherwise\n",
    "    '''\n",
    "    guessed = True\n",
    "    letter = 0\n",
    "    for letter in range(len(secretWord)):\n",
    "        if secretWord[letter] not in lettersGuessed:\n",
    "            guessed = False\n",
    "            break\n",
    "    return guessed\n",
    "\n",
    "\n",
    "\n",
    "def getGuessedWord(secretWord, lettersGuessed):\n",
    "    '''\n",
    "    secretWord: string, the word the user is guessing\n",
    "    lettersGuessed: list, what letters have been guessed so far\n",
    "    returns: string, comprised of letters and underscores that represents\n",
    "      what letters in secretWord have been guessed so far.\n",
    "    '''\n",
    "    letter = 0\n",
    "    guessedWord = ''\n",
    "    for letter in range(len(secretWord)):\n",
    "        if secretWord[letter] in lettersGuessed:\n",
    "            guessedWord = guessedWord + (secretWord[letter] + ' ')\n",
    "        else:\n",
    "            guessedWord = guessedWord + ('_ ')\n",
    "    return guessedWord\n",
    "\n",
    "\n",
    "\n",
    "def getAvailableLetters(lettersGuessed):\n",
    "    '''\n",
    "    lettersGuessed: list, what letters have been guessed so far\n",
    "    returns: string, comprised of letters that represents what letters have not\n",
    "      yet been guessed.\n",
    "    '''\n",
    "    availableLetters = string.ascii_lowercase\n",
    "    for letter in lettersGuessed:\n",
    "        if letter in availableLetters:\n",
    "            remover = availableLetters.partition(letter)\n",
    "            availableLetters = remover[0] + remover[2]\n",
    "    return availableLetters\n",
    "            \n",
    "            \n",
    "    \n",
    "\n",
    "def hangman(secretWord):\n",
    "    '''\n",
    "    secretWord: string, the secret word to guess.\n",
    "    Starts up an interactive game of Hangman.\n",
    "    * At the start of the game, let the user know how many \n",
    "      letters the secretWord contains.\n",
    "    * Ask the user to supply one guess (i.e. letter) per round.\n",
    "    * The user should receive feedback immediately after each guess \n",
    "      about whether their guess appears in the computers word.\n",
    "    * After each round, you should also display to the user the \n",
    "      partially guessed word so far, as well as letters that the \n",
    "      user has not yet guessed.\n",
    "    Follows the other limitations detailed in the problem write-up.\n",
    "    '''\n",
    "\n",
    "    guesses = 8\n",
    "    lettersGuessed = []\n",
    "    winner = False\n",
    "    \n",
    "    print('Welcome to the game, Hangman!')\n",
    "    print('I am thinking of a word that is ' + str(len(secretWord)) + ' letters long.')\n",
    "    \n",
    "    while guesses > 0 and winner == False:\n",
    "        print('-------------')\n",
    "        print('You have ' + str(guesses) + ' guesses left')\n",
    "        print('Available Letters: ' + getAvailableLetters(lettersGuessed))\n",
    "        guess = raw_input('Please guess a letter: ')\n",
    "        guess = guess.lower()\n",
    "        if guess not in getAvailableLetters(lettersGuessed):\n",
    "            print(\"Oops! You've already guessed that letter: \" + getGuessedWord(secretWord, lettersGuessed))\n",
    "        elif guess not in secretWord:\n",
    "            lettersGuessed.append(guess)\n",
    "            print('Oops! That letter is not in my word: ' + getGuessedWord(secretWord, lettersGuessed))\n",
    "            guesses -= 1\n",
    "        elif guess in secretWord:\n",
    "            lettersGuessed.append(guess)\n",
    "            print('Good guess: ' + getGuessedWord(secretWord, lettersGuessed))\n",
    "            if isWordGuessed(secretWord, lettersGuessed):\n",
    "                winner = True\n",
    "\n",
    "    print('-------------')        \n",
    "    if winner == True:\n",
    "        print('Congratulations, you won!')\n",
    "    else:\n",
    "        print('Sorry, you ran out of guesses. The word was ' + secretWord + '.')\n",
    "\n",
    "\n",
    "\n",
    "\n",
    "# When you've completed your hangman function, uncomment these two lines\n",
    "# and run this file to test! (hint: you might want to pick your own\n",
    "# secretWord while you're testing)\n",
    "\n",
    "secretWord = chooseWord(wordlist).lower()\n",
    "hangman(secretWord)"
   ]
  },
  {
   "cell_type": "code",
   "execution_count": null,
   "metadata": {
    "collapsed": true
   },
   "outputs": [],
   "source": []
  }
 ],
 "metadata": {
  "kernelspec": {
   "display_name": "Python 2",
   "language": "python",
   "name": "python2"
  },
  "language_info": {
   "codemirror_mode": {
    "name": "ipython",
    "version": 2
   },
   "file_extension": ".py",
   "mimetype": "text/x-python",
   "name": "python",
   "nbconvert_exporter": "python",
   "pygments_lexer": "ipython2",
   "version": "2.7.11"
  }
 },
 "nbformat": 4,
 "nbformat_minor": 0
}
